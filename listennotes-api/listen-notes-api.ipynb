{
 "cells": [
  {
   "cell_type": "code",
   "execution_count": 2,
   "metadata": {},
   "outputs": [],
   "source": [
    "from listennotes import podcast_api"
   ]
  },
  {
   "cell_type": "code",
   "execution_count": 19,
   "metadata": {},
   "outputs": [],
   "source": [
    "api_key = '11aa71d6387c4209b6bd42067444910c'\n",
    "\n",
    "client = podcast_api.Client(api_key=api_key)\n",
    "\n",
    "query=\"Pioneering AR Solutions for the Enterprise World with Daniel Diez\"\n",
    "\n",
    "search_response = client.search(q=query, sort_by_date=1, only_in='title')"
   ]
  },
  {
   "cell_type": "code",
   "execution_count": 20,
   "metadata": {},
   "outputs": [
    {
     "data": {
      "text/plain": [
       "<Response [200]>"
      ]
     },
     "metadata": {},
     "output_type": "display_data"
    }
   ],
   "source": [
    "response_json = search_response.json()['results'][0]\n",
    "\n",
    "podcast = {\n",
    "    \"id\": response_json['id'],\n",
    "    \"title\": response_json['title_original'],\n",
    "    \"publisher\": response_json['podcast']['publisher_original'],\n",
    "    \"podcast_name\": response_json['podcast']['title_original'],\n",
    "}\n",
    "\n",
    "podcast_response = client.fetch_episode_by_id(\n",
    "  id=podcast['id'],\n",
    "  show_transcript=1,\n",
    ")"
   ]
  },
  {
   "cell_type": "code",
   "execution_count": 22,
   "metadata": {},
   "outputs": [
    {
     "data": {
      "text/plain": [
       "{'id': '324925c04b1b4198b72d387a5c8b45c6',\n",
       " 'title': 'Pioneering AR Solutions for the Enterprise World with Daniel Diez',\n",
       " 'description': '<div class=\"wysiwyg\">\\n    <p>Step into the realm of Magic Leap, a company focused on the augmented reality (AR) universe. On today’s episode, the advanced headset, Magic Leap 1, is examined in detail, comparing its performance to other devices on the market. Then we discuss the hurdles the company has encountered in creating appealing content for consumers. Listeners are invited to join in on the discussion about the advancements incorporated into their newest model, the Magic Leap 2, and how it&#8217;s being adopted by enterprise customers spanning diverse industries. The applications of wearable technology in the realms of training and healthcare are explored, uncovering how Magic Leap is pioneering revolution in these domains. Join Andrew, Nicholas, and Daniel as the future of augmented reality and the opportunities it presents are investigated.</p>\\n</div>\\n\\n\\n\\n<div class=\"twitter-share\">\\n    <a class=\"twitter-share__link\" href=\"https://twitter.com/intent/tweet?text=%22AR+is+much%2C+much+more+difficult+to+do+than+VR.+It%27s+much+more+difficult+than+pass+through+VR%2C+which+is+what+you%27re+seeing+Meta+and+Apple+come+out+with.%22+-+Daniel+Diez @ARKinvest - https://ark-invest.com/podcast/pioneering-ar-solutions-for-the-enterprise-world/\" target=\"blank\">\\n        &#8220;AR is much, much more difficult to do than VR. It&#8217;s much more difficult than pass through VR, which is what you&#8217;re seeing Meta and Apple come out with.&#8221; &#8211; Daniel Diez    </a>\\n</div>\\n\\n\\n\\n<div class=\"wysiwyg\">\\n    <h3>Key Points From This Episode:</h3>\\n<ul>\\n<li>Introduction to Magic Leap 1 and its performance compared to HoloLens</li>\\n<li>Feedback from enterprise customers for improvements</li>\\n<li>Highlights of Magic Leap 2: lighter, smaller, bigger field of view</li>\\n<li>Prescription lenses and Dynamic Dimming for better image clarity</li>\\n<li>Software updates for enterprise integration</li>\\n<li>Positive feedback for Magic Leap 2</li>\\n<li>Benefits of wearable technology in training for industrial and manufacturing scenarios</li>\\n<li>Increased engagement and retention of employees using wearable technology</li>\\n<li>3D visualization and guided assistance in healthcare for accuracy and safety</li>\\n<li>Remote assistance in the public sector for machinery repairs</li>\\n<li>Potential impact of wearable technology in healthcare delivery</li>\\n<li>Magic Leap&#8217;s support for developers and partnerships with major companies</li>\\n<li>Focus on advancing technology and providing a performative platform for AR</li>\\n<li>Applications of Magic Leap technology in architecture, construction, retail, automotive, and manufacturing sectors</li>\\n<li>Comparison with pass-through virtual reality (VR) devices and the revenue potential of the enterprise market</li>\\n<li>Magic Leap&#8217;s roadmap for device improvements and strong partnerships</li>\\n<li>Current market position and the belief that AR can deliver immediate value</li>\\n</ul>\\n</div>',\n",
       " 'pub_date_ms': 1692262800000,\n",
       " 'audio': 'https://www.listennotes.com/e/p/324925c04b1b4198b72d387a5c8b45c6/',\n",
       " 'audio_length_sec': 2084,\n",
       " 'listennotes_url': 'https://www.listennotes.com/e/324925c04b1b4198b72d387a5c8b45c6/',\n",
       " 'image': 'https://production.listennotes.com/podcasts/fyi-for-your/pioneering-ar-solutions-for-VXb5JdLIBWk-5AJZR9-dS2e.300x300.jpg',\n",
       " 'thumbnail': 'https://production.listennotes.com/podcasts/fyi-for-your/pioneering-ar-solutions-for-VXb5JdLIBWk-5AJZR9-dS2e.300x300.jpg',\n",
       " 'maybe_audio_invalid': False,\n",
       " 'listennotes_edit_url': 'https://www.listennotes.com/e/324925c04b1b4198b72d387a5c8b45c6/#edit',\n",
       " 'explicit_content': False,\n",
       " 'link': 'https://ark-invest.com/podcast/pioneering-ar-solutions-for-the-enterprise-world/?utm_source=listennotes.com&utm_campaign=Listen+Notes&utm_medium=website',\n",
       " 'guid_from_rss': 'https://ark-invest.com/?post_type=podcast&p=18237',\n",
       " 'transcript': 'Please upgrade to PRO or ENTERPRISE plan to see this field. Learn more: listennotes.com/api/pricing',\n",
       " 'podcast': {'id': 'e87ad18ee87a45319410c830afa5af75',\n",
       "  'title': 'FYI - For Your Innovation',\n",
       "  'publisher': 'ARK Invest',\n",
       "  'image': 'https://production.listennotes.com/podcasts/fyi-for-your-innovation-ark-invest-1y7EUsdjqcN-r_cwaPbSf5F.300x300.jpg',\n",
       "  'thumbnail': 'https://production.listennotes.com/podcasts/fyi-for-your-innovation-ark-invest-1y7EUsdjqcN-r_cwaPbSf5F.300x300.jpg',\n",
       "  'listennotes_url': 'https://www.listennotes.com/c/e87ad18ee87a45319410c830afa5af75/',\n",
       "  'listen_score': 'Please upgrade to PRO or ENTERPRISE plan to see this field. Learn more: listennotes.com/api/pricing',\n",
       "  'listen_score_global_rank': 'Please upgrade to PRO or ENTERPRISE plan to see this field. Learn more: listennotes.com/api/pricing',\n",
       "  'total_episodes': 223,\n",
       "  'audio_length_sec': 2584,\n",
       "  'update_frequency_hours': 56,\n",
       "  'explicit_content': False,\n",
       "  'description': 'The FYI – For Your Innovation Podcast offers an intellectual discussion on recent developments across disruptive innovation—driven by research, news, controversies, companies, and technological breakthroughs.',\n",
       "  'itunes_id': 1271691895,\n",
       "  'rss': 'Please upgrade to PRO or ENTERPRISE plan to see this field. Learn more: listennotes.com/api/pricing',\n",
       "  'latest_pub_date_ms': 1692262800000,\n",
       "  'latest_episode_id': 'Please upgrade to PRO or ENTERPRISE plan to see this field. Learn more: listennotes.com/api/pricing',\n",
       "  'earliest_pub_date_ms': 1502443203000,\n",
       "  'language': 'English',\n",
       "  'country': 'United States',\n",
       "  'website': 'https://ark-invest.com/?utm_source=listennotes.com&utm_campaign=Listen+Notes&utm_medium=website',\n",
       "  'extra': {'twitter_handle': 'Please upgrade to PRO or ENTERPRISE plan to see this field. Learn more: listennotes.com/api/pricing',\n",
       "   'facebook_handle': 'Please upgrade to PRO or ENTERPRISE plan to see this field. Learn more: listennotes.com/api/pricing',\n",
       "   'instagram_handle': 'Please upgrade to PRO or ENTERPRISE plan to see this field. Learn more: listennotes.com/api/pricing',\n",
       "   'wechat_handle': 'Please upgrade to PRO or ENTERPRISE plan to see this field. Learn more: listennotes.com/api/pricing',\n",
       "   'patreon_handle': 'Please upgrade to PRO or ENTERPRISE plan to see this field. Learn more: listennotes.com/api/pricing',\n",
       "   'youtube_url': 'Please upgrade to PRO or ENTERPRISE plan to see this field. Learn more: listennotes.com/api/pricing',\n",
       "   'linkedin_url': 'Please upgrade to PRO or ENTERPRISE plan to see this field. Learn more: listennotes.com/api/pricing',\n",
       "   'spotify_url': 'Please upgrade to PRO or ENTERPRISE plan to see this field. Learn more: listennotes.com/api/pricing',\n",
       "   'google_url': 'Please upgrade to PRO or ENTERPRISE plan to see this field. Learn more: listennotes.com/api/pricing',\n",
       "   'amazon_music_url': 'Please upgrade to PRO or ENTERPRISE plan to see this field. Learn more: listennotes.com/api/pricing',\n",
       "   'url1': 'Please upgrade to PRO or ENTERPRISE plan to see this field. Learn more: listennotes.com/api/pricing',\n",
       "   'url2': 'Please upgrade to PRO or ENTERPRISE plan to see this field. Learn more: listennotes.com/api/pricing',\n",
       "   'url3': 'Please upgrade to PRO or ENTERPRISE plan to see this field. Learn more: listennotes.com/api/pricing'},\n",
       "  'is_claimed': False,\n",
       "  'email': 'Please upgrade to PRO or ENTERPRISE plan to see this field. Learn more: listennotes.com/api/pricing',\n",
       "  'type': 'episodic',\n",
       "  'looking_for': {'sponsors': False,\n",
       "   'guests': False,\n",
       "   'cohosts': False,\n",
       "   'cross_promotion': False},\n",
       "  'genre_ids': [67, 93, 98, 111, 127]}}"
      ]
     },
     "metadata": {},
     "output_type": "display_data"
    }
   ],
   "source": [
    "display(podcast_response.json())"
   ]
  }
 ],
 "metadata": {
  "kernelspec": {
   "display_name": ".venv",
   "language": "python",
   "name": "python3"
  },
  "language_info": {
   "codemirror_mode": {
    "name": "ipython",
    "version": 3
   },
   "file_extension": ".py",
   "mimetype": "text/x-python",
   "name": "python",
   "nbconvert_exporter": "python",
   "pygments_lexer": "ipython3",
   "version": "3.11.4"
  },
  "orig_nbformat": 4
 },
 "nbformat": 4,
 "nbformat_minor": 2
}
